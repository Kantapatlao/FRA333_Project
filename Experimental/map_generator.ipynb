{
 "cells": [
  {
   "cell_type": "code",
   "execution_count": 18,
   "metadata": {},
   "outputs": [],
   "source": [
    "import math\n",
    "import random\n",
    "import numpy as np\n",
    "import cv2 as cv\n",
    "\n",
    "obstacle_shape = {0: cv.MORPH_RECT, 1: cv.MORPH_CROSS, 2: cv.MORPH_ELLIPSE}\n",
    "\n",
    "def make_map(sizeX : int, sizeY : int, obstacles_count : int = random.randint(1,5)):\n",
    "\n",
    "    # Sanitize input\n",
    "    # Check input type if they are integer or not.\n",
    "    if type(sizeX) is not int:\n",
    "        raise TypeError(\"sizeX only take positive integer as input.\")\n",
    "    if type(sizeY) is not int:\n",
    "        raise TypeError(\"sizeY only take positive integer as input.\")\n",
    "    if type(obstacles_count) is not int:\n",
    "        raise TypeError(\"obstacles_count only take positive integer or zero as input.\")\n",
    "    \n",
    "    # Check if input is positive or not\n",
    "    if (sizeX < 1):\n",
    "        raise ValueError(\"sizeX only take positive integer as input.\")\n",
    "    if (sizeY < 1):\n",
    "        raise ValueError(\"sizeY only take positive integer as input.\")\n",
    "    if (obstacles_count < 0):\n",
    "        raise ValueError(\"obstacles_count only take positive integer or zero as input.\")\n",
    "        \n",
    "    # initialized a map\n",
    "    map = np.zeros((sizeY, sizeX)).astype(int)  \n",
    "\n",
    "    # place obstacle\n",
    "    for i in range(obstacles_count):\n",
    "\n",
    "        # Randomize obstacle property\n",
    "        obstacle_size = (random.randint(1, math.floor(sizeX / 2)), random.randint(1, math.floor(sizeY / 2)))\n",
    "        obstacle_type = obstacle_shape[random.randint(0,2)]\n",
    "        obstacle_position = (sizeX - obstacle_size[0] - 1, sizeY - obstacle_size[1] - 1)\n",
    "        obstacle_position = (random.randint(0, obstacle_position[0]), random.randint(0, obstacle_position[1]))\n",
    "\n",
    "        # Temp variable x, xm, y, ym\n",
    "        x = obstacle_position[0]\n",
    "        y = obstacle_position[1]\n",
    "        xm = x + obstacle_size[0]\n",
    "        ym = y + obstacle_size[1]\n",
    "        map[y:ym, x:xm] = np.bitwise_or(map[y:ym, x:xm], cv.getStructuringElement(obstacle_type, obstacle_size))\n",
    "     \n",
    "    \n",
    "    return map"
   ]
  },
  {
   "cell_type": "code",
   "execution_count": 19,
   "metadata": {},
   "outputs": [
    {
     "data": {
      "image/png": "[encoded data removed]",
      "text/plain": [
       "<Figure size 640x480 with 1 Axes>"
      ]
     },
     "metadata": {},
     "output_type": "display_data"
    }
   ],
   "source": [
    "import matplotlib.pyplot as plt\n",
    "\n",
    "map = make_map(20,20,3)\n",
    "\n",
    "plt.imshow(map, cmap='grey', interpolation='nearest')\n",
    "plt.axis('off')\n",
    "plt.show()"
   ]
  },
  {
   "cell_type": "code",
   "execution_count": null,
   "metadata": {},
   "outputs": [
    {
     "name": "stdout",
     "output_type": "stream",
     "text": [
      "test_cases # 1\n"
     ]
    },
    {
     "data": {
      "image/png": "[encoded data removed]",
      "text/plain": [
       "<Figure size 640x480 with 1 Axes>"
      ]
     },
     "metadata": {},
     "output_type": "display_data"
    },
    {
     "name": "stdout",
     "output_type": "stream",
     "text": [
      "test_cases # 2\n"
     ]
    },
    {
     "data": {
      "image/png": "[encoded data removed]",
      "text/plain": [
       "<Figure size 640x480 with 1 Axes>"
      ]
     },
     "metadata": {},
     "output_type": "display_data"
    },
    {
     "name": "stdout",
     "output_type": "stream",
     "text": [
      "test_cases # 3\n"
     ]
    },
    {
     "data": {
      "image/png": "[encoded data removed]",
      "text/plain": [
       "<Figure size 640x480 with 1 Axes>"
      ]
     },
     "metadata": {},
     "output_type": "display_data"
    },
    {
     "name": "stdout",
     "output_type": "stream",
     "text": [
      "test_cases # 4\n"
     ]
    },
    {
     "data": {
      "image/png": "[encoded data removed]",
      "text/plain": [
       "<Figure size 640x480 with 1 Axes>"
      ]
     },
     "metadata": {},
     "output_type": "display_data"
    },
    {
     "name": "stdout",
     "output_type": "stream",
     "text": [
      "test_cases # 5\n"
     ]
    },
    {
     "data": {
      "image/png": "[encoded data removed]",
      "text/plain": [
       "<Figure size 640x480 with 1 Axes>"
      ]
     },
     "metadata": {},
     "output_type": "display_data"
    },
    {
     "name": "stdout",
     "output_type": "stream",
     "text": [
      "test_cases # 6\n",
      "Exception:  sizeX only take positive integer as input.\n",
      "test_cases # 7\n",
      "Exception:  sizeX only take positive integer as input.\n",
      "test_cases # 8\n",
      "Exception:  sizeY only take positive integer as input.\n",
      "test_cases # 9\n",
      "Exception:  obstacles_count only take positive integer or zero as input.\n",
      "test_cases # 10\n",
      "Exception:  sizeX only take positive integer as input.\n"
     ]
    }
   ],
   "source": [
    "# Test cases generated by ChatGPT\n",
    "\n",
    "test_cases = [\n",
    "    (20,20),                            # Test case #1\n",
    "    (3,23),                             # Test case #2\n",
    "    (12,5),                             # Test case #3\n",
    "    (20,20, 0),                         # Test case #4\n",
    "    (20,20, 3),                         # Test case #5\n",
    "    (12.3,32.1, None),                  # Test case #6\n",
    "    (12.3,32.1, 3),                     # Test case #7\n",
    "    (20,32.1, 1.2),                     # Test case #8\n",
    "    (20,20, \"None\"),                    # Test case #9\n",
    "    (0, 0, 0),                          # Test case #10\n",
    "]\n",
    "\n",
    "\n",
    "for i, case in enumerate(test_cases):\n",
    "\n",
    "    print(\"test_cases #\", i+1)\n",
    "    try:\n",
    "        if len(case) == 2:\n",
    "            map = make_map(case[0],case[1])\n",
    "\n",
    "        else:\n",
    "            map = make_map(case[0],case[1],case[2])\n",
    "\n",
    "        plt.imshow(map, cmap='grey', interpolation='nearest')\n",
    "        plt.axis('off')\n",
    "        plt.show()\n",
    "\n",
    "    except Exception as e:\n",
    "        print(\"Exception: \",e)\n",
    "        pass\n",
    "\n",
    "    \n",
    "\n"
   ]
  },
  {
   "cell_type": "code",
   "execution_count": null,
   "metadata": {},
   "outputs": [],
   "source": []
  }
 ],
 "metadata": {
  "kernelspec": {
   "display_name": "Python 3",
   "language": "python",
   "name": "python3"
  },
  "language_info": {
   "codemirror_mode": {
    "name": "ipython",
    "version": 3
   },
   "file_extension": ".py",
   "mimetype": "text/x-python",
   "name": "python",
   "nbconvert_exporter": "python",
   "pygments_lexer": "ipython3",
   "version": "3.11.2"
  }
 },
 "nbformat": 4,
 "nbformat_minor": 2
}
