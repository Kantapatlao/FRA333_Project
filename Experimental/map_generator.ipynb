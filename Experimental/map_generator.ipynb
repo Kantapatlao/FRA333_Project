{
 "cells": [
  {
   "cell_type": "code",
   "execution_count": 6,
   "metadata": {},
   "outputs": [],
   "source": [
    "import math\n",
    "import random\n",
    "import numpy as np\n",
    "import cv2 as cv\n",
    "\n",
    "obstacle_shape = {0: cv.MORPH_RECT, 1: cv.MORPH_CROSS, 2: cv.MORPH_ELLIPSE}\n",
    "\n",
    "def make_map(sizeX : int, sizeY : int, obstacles_count : int = None):\n",
    "\n",
    "    # Sanitize input\n",
    "    # Check input type if they are integer or not.\n",
    "    if type(sizeX) is not int:\n",
    "        raise TypeError(\"sizeX only take integer as input.\")\n",
    "    if type(sizeY) is not int:\n",
    "        raise TypeError(\"sizeY only take integer as input.\")\n",
    "    if type(obstacles_count) is not int and obstacles_count is not None:\n",
    "        raise TypeError(\"obstacles_count only take integer as input.\")\n",
    "    \n",
    "    # If obstacles_count is none random new value for them\n",
    "    if obstacles_count is None:\n",
    "        obstacles_count = random.randint(1,5)   \n",
    "        \n",
    "    # initialized a map\n",
    "    map = np.zeros((sizeX, sizeY)).astype(int)  \n",
    "\n",
    "    # place obstacle\n",
    "    for i in range(obstacles_count):\n",
    "\n",
    "        # Randomize obstacle property\n",
    "        obstacle_size = (random.randint(1, math.floor(sizeX / 2)), random.randint(1, math.floor(sizeY / 2)))\n",
    "        obstacle_type = obstacle_shape[random.randint(0,2)]\n",
    "        obstacle_position = (sizeX - obstacle_size[0] - 1, sizeY - obstacle_size[1] - 1)\n",
    "        obstacle_position = (random.randint(0, obstacle_position[0]), random.randint(0, obstacle_position[1]))\n",
    "\n",
    "        # Temp variable x, xm, y, ym\n",
    "        x = obstacle_position[0]\n",
    "        y = obstacle_position[1]\n",
    "        xm = x + obstacle_size[0]\n",
    "        ym = y + obstacle_size[1]\n",
    "        map[y:ym, x:xm] = np.bitwise_or(map[y:ym, x:xm], cv.getStructuringElement(obstacle_type, obstacle_size))\n",
    "     \n",
    "    \n",
    "    return map"
   ]
  },
  {
   "cell_type": "code",
   "execution_count": 18,
   "metadata": {},
   "outputs": [
    {
     "data": {
      "image/png": "[encoded data removed]",
      "text/plain": [
       "<Figure size 640x480 with 1 Axes>"
      ]
     },
     "metadata": {},
     "output_type": "display_data"
    }
   ],
   "source": [
    "import matplotlib.pyplot as plt\n",
    "\n",
    "map = make_map(20,20,3)\n",
    "\n",
    "plt.imshow(map, cmap='grey', interpolation='nearest')\n",
    "plt.axis('off')\n",
    "plt.show()"
   ]
  },
  {
   "cell_type": "code",
   "execution_count": null,
   "metadata": {},
   "outputs": [],
   "source": []
  }
 ],
 "metadata": {
  "kernelspec": {
   "display_name": "Python 3",
   "language": "python",
   "name": "python3"
  },
  "language_info": {
   "codemirror_mode": {
    "name": "ipython",
    "version": 3
   },
   "file_extension": ".py",
   "mimetype": "text/x-python",
   "name": "python",
   "nbconvert_exporter": "python",
   "pygments_lexer": "ipython3",
   "version": "3.11.2"
  }
 },
 "nbformat": 4,
 "nbformat_minor": 2
}
