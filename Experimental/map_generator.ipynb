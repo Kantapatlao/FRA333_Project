{
 "cells": [
  {
   "cell_type": "code",
   "execution_count": 4,
   "metadata": {},
   "outputs": [],
   "source": [
    "import math\n",
    "import numpy as np\n",
    "import cv2 as cv\n",
    "import random\n",
    "\n",
    "def make_map(sizeX : int, sizeY : int, obstacles_count : int = None):\n",
    "\n",
    "    # Sanitize input\n",
    "    # Check input type if they are integer or not.\n",
    "    if type(sizeX) is not int:\n",
    "        raise TypeError(\"sizeX only take integer as input.\")\n",
    "    if type(sizeY) is not int:\n",
    "        raise TypeError(\"sizeY only take integer as input.\")\n",
    "    if type(obstacles_count) is not int and obstacles_count is not None:\n",
    "        raise TypeError(\"obstacles_count only take integer as input.\")\n",
    "    \n",
    "    # If obstacles_count is none random new value for them\n",
    "    if obstacles_count is None:\n",
    "        obstacles_count = random.randint(1,5)   \n",
    "        \n",
    "    # initialized a map\n",
    "    map = np.zeros((sizeX, sizeY)).astype(int)  "
   ]
  },
  {
   "cell_type": "code",
   "execution_count": 5,
   "metadata": {},
   "outputs": [],
   "source": [
    "make_map(20,20)"
   ]
  }
 ],
 "metadata": {
  "kernelspec": {
   "display_name": "Python 3",
   "language": "python",
   "name": "python3"
  },
  "language_info": {
   "codemirror_mode": {
    "name": "ipython",
    "version": 3
   },
   "file_extension": ".py",
   "mimetype": "text/x-python",
   "name": "python",
   "nbconvert_exporter": "python",
   "pygments_lexer": "ipython3",
   "version": "3.11.2"
  }
 },
 "nbformat": 4,
 "nbformat_minor": 2
}
