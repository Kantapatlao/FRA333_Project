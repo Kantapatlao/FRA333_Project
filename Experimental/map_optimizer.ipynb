{
 "cells": [
  {
   "cell_type": "code",
   "execution_count": null,
   "metadata": {},
   "outputs": [],
   "source": [
    "import numpy as np\n",
    "\n",
    "class Map:\n",
    "    \n",
    "    def __init__(self, in_map):\n",
    "        \n",
    "        # sanitize map input\n",
    "        if type(in_map) is not np.ndarray:\n",
    "            raise TypeError(\"in_map only take np.ndarray as input\")\n",
    "\n",
    "        \n",
    "        # Declare \"Map\" object's attribute\n",
    "        \n",
    "        # full_map: Hold grid map in form of numpy.ndarray\n",
    "        # graph_map: Hold map in form of discretized map\n",
    "        \n",
    "        self.full_map = in_map\n",
    "        self.graph_map = None\n",
    "        return None"
   ]
  },
  {
   "cell_type": "code",
   "execution_count": null,
   "metadata": {},
   "outputs": [],
   "source": []
  }
 ],
 "metadata": {
  "kernelspec": {
   "display_name": "Python 3",
   "language": "python",
   "name": "python3"
  },
  "language_info": {
   "codemirror_mode": {
    "name": "ipython",
    "version": 3
   },
   "file_extension": ".py",
   "mimetype": "text/x-python",
   "name": "python",
   "nbconvert_exporter": "python",
   "pygments_lexer": "ipython3",
   "version": "3.11.2"
  }
 },
 "nbformat": 4,
 "nbformat_minor": 2
}
